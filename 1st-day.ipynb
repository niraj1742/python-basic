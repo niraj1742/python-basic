{
 "cells": [
  {
   "cell_type": "markdown",
   "metadata": {},
   "source": [
    "# <h1 style='text-align:center;'>Basic Syntax</h1>"
   ]
  },
  {
   "cell_type": "code",
   "execution_count": 33,
   "metadata": {},
   "outputs": [
    {
     "name": "stdout",
     "output_type": "stream",
     "text": [
      "hello\n"
     ]
    }
   ],
   "source": [
    "print(\"hello\")"
   ]
  },
  {
   "cell_type": "code",
   "execution_count": 34,
   "metadata": {},
   "outputs": [
    {
     "name": "stdout",
     "output_type": "stream",
     "text": [
      "This is the basic syntax of python \n",
      " To print\n"
     ]
    }
   ],
   "source": [
    "print(\"This is the basic syntax of python \\n To print\")"
   ]
  },
  {
   "cell_type": "markdown",
   "metadata": {},
   "source": [
    "# <h1 style='text-align:center;'>Variables</h1>"
   ]
  },
  {
   "cell_type": "code",
   "execution_count": 35,
   "metadata": {},
   "outputs": [
    {
     "name": "stdout",
     "output_type": "stream",
     "text": [
      "hello\n",
      "world\n",
      "5\n"
     ]
    }
   ],
   "source": [
    "H = \"hello\"\n",
    "W = \"world\"\n",
    "Num = 5\n",
    "print(H)\n",
    "print(W)\n",
    "print(Num)"
   ]
  },
  {
   "cell_type": "markdown",
   "metadata": {},
   "source": [
    "# <h1 style='text-align:center;'>Data Type</h1>"
   ]
  },
  {
   "cell_type": "code",
   "execution_count": 36,
   "metadata": {},
   "outputs": [
    {
     "name": "stdout",
     "output_type": "stream",
     "text": [
      "<class 'int'>\n",
      "<class 'float'>\n",
      "<class 'list'>\n"
     ]
    }
   ],
   "source": [
    "A = 10\n",
    "B = 11.1\n",
    "C = [\"Rajput\", \"Niraj\", \"Singh\"]\n",
    "print(type(A))\n",
    "print(type(B))\n",
    "print(type(C))"
   ]
  },
  {
   "cell_type": "markdown",
   "metadata": {},
   "source": [
    "# <h1 style='text-align:center;'>Conditional</h1>"
   ]
  },
  {
   "cell_type": "code",
   "execution_count": 37,
   "metadata": {},
   "outputs": [
    {
     "name": "stdout",
     "output_type": "stream",
     "text": [
      "A is smaller then B\n"
     ]
    }
   ],
   "source": [
    "#if\n",
    "A = 10\n",
    "B = 20\n",
    "if B>A:\n",
    "    print(\"A is smaller then B\")"
   ]
  },
  {
   "cell_type": "code",
   "execution_count": 38,
   "metadata": {},
   "outputs": [
    {
     "name": "stdout",
     "output_type": "stream",
     "text": [
      "A & B are equal\n"
     ]
    }
   ],
   "source": [
    "#if elif\n",
    "A = 10\n",
    "B = 10\n",
    "if B>A:\n",
    "    print(\"B is greater then A\")\n",
    "elif A==B:\n",
    "    print(\"A & B are equal\")"
   ]
  },
  {
   "cell_type": "code",
   "execution_count": 39,
   "metadata": {},
   "outputs": [
    {
     "name": "stdout",
     "output_type": "stream",
     "text": [
      "A iis greater then B\n"
     ]
    }
   ],
   "source": [
    "#if-elif-else\n",
    "A= 200\n",
    "B= 250\n",
    "if A>B:\n",
    "    print(\"B is smaller then A\")\n",
    "elif A == B:\n",
    "    print(\"both are equal\")\n",
    "else:\n",
    "    print(\"A iis greater then B\")"
   ]
  },
  {
   "cell_type": "markdown",
   "metadata": {},
   "source": [
    "# <h1 style='text-align:center;'>Function</h1>"
   ]
  },
  {
   "cell_type": "code",
   "execution_count": 40,
   "metadata": {},
   "outputs": [
    {
     "name": "stdout",
     "output_type": "stream",
     "text": [
      "email this\n",
      "instargam this\n",
      "facebook this\n"
     ]
    }
   ],
   "source": [
    "def N(my ):\n",
    "    print(my +\"this\")\n",
    "N(\"email \")\n",
    "N(\"instargam \")\n",
    "N(\"facebook \")\n"
   ]
  },
  {
   "cell_type": "markdown",
   "metadata": {},
   "source": [
    "# <h1 style='text-align:center;'>list</h1>"
   ]
  },
  {
   "cell_type": "code",
   "execution_count": 41,
   "metadata": {},
   "outputs": [
    {
     "name": "stdout",
     "output_type": "stream",
     "text": [
      "['saikiran', 'Mayur', 'Ayush']\n"
     ]
    }
   ],
   "source": [
    "friendlist =[\"saikiran\",\"Mayur\",\"Ayush\"]\n",
    "print(friendlist)"
   ]
  },
  {
   "cell_type": "markdown",
   "metadata": {},
   "source": [
    "# <h1 style='text-align:center;'>Tuple</h1>"
   ]
  },
  {
   "cell_type": "code",
   "execution_count": 42,
   "metadata": {},
   "outputs": [
    {
     "name": "stdout",
     "output_type": "stream",
     "text": [
      "['splender', 'passion pro', 'hero honda', 'Rone5']\n"
     ]
    }
   ],
   "source": [
    "my_tuple = [\"splender\",\"passion pro\", \"hero honda\" ,\"Rone5\"]\n",
    "print(my_tuple)"
   ]
  },
  {
   "cell_type": "markdown",
   "metadata": {},
   "source": [
    "# <h1 style='text-align:center;'>Sets</h1>"
   ]
  },
  {
   "cell_type": "code",
   "execution_count": 43,
   "metadata": {},
   "outputs": [
    {
     "name": "stdout",
     "output_type": "stream",
     "text": [
      "['dog', 'cat', 'rat', 'dog', 'monkey']\n"
     ]
    }
   ],
   "source": [
    "My_sets =[\"dog\",\"cat\",\"rat\",\"dog\",\"monkey\"]\n",
    "print(My_sets)"
   ]
  },
  {
   "cell_type": "markdown",
   "metadata": {},
   "source": [
    "# <h1 style='text-align:center;'>Dictionary</h1>"
   ]
  },
  {
   "cell_type": "code",
   "execution_count": 44,
   "metadata": {},
   "outputs": [
    {
     "name": "stdout",
     "output_type": "stream",
     "text": [
      "['Rajput', 'Niraj', 'singh']\n"
     ]
    }
   ],
   "source": [
    "My_dict = [\"Rajput\",\"Niraj\", \"singh\"]\n",
    "print(My_dict)"
   ]
  }
 ],
 "metadata": {
  "kernelspec": {
   "display_name": "Python 3.9.12 ('base')",
   "language": "python",
   "name": "python3"
  },
  "language_info": {
   "codemirror_mode": {
    "name": "ipython",
    "version": 3
   },
   "file_extension": ".py",
   "mimetype": "text/x-python",
   "name": "python",
   "nbconvert_exporter": "python",
   "pygments_lexer": "ipython3",
   "version": "3.9.12"
  },
  "orig_nbformat": 4,
  "vscode": {
   "interpreter": {
    "hash": "18ca29b0785e4615b446edb7d6f02fc99c9250c3ce4a59509abe2907568d7b79"
   }
  }
 },
 "nbformat": 4,
 "nbformat_minor": 2
}
